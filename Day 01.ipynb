{
 "cells": [
  {
   "cell_type": "code",
   "execution_count": 2,
   "metadata": {},
   "outputs": [],
   "source": [
    "import doctest\n",
    "from dataclasses import dataclass"
   ]
  },
  {
   "cell_type": "code",
   "execution_count": 15,
   "metadata": {},
   "outputs": [],
   "source": [
    "@dataclass\n",
    "class ProblemInput:\n",
    "  left: list[int]\n",
    "  right: list[int]\n",
    "  \n",
    "  @classmethod\n",
    "  def parse_input(cls, input: str) -> 'ProblemInput':\n",
    "    left, right = [], []\n",
    "    for line in input.splitlines():\n",
    "      l, r = line.split('   ')\n",
    "      left.append(int(l))\n",
    "      right.append(int(r))\n",
    "    return ProblemInput(left, right)\n",
    "  \n",
    "\n",
    "def sum_differences(left: list[int], right: list[int]):\n",
    "  \"\"\"\n",
    "  >>> sum_differences([], [2])\n",
    "  0\n",
    "  >>> sum_differences([1, 4, 3], [2, 4, 0])\n",
    "  4\n",
    "  \"\"\"\n",
    "  return sum(abs(l-r) for (l, r) in zip(left, right))\n"
   ]
  },
  {
   "cell_type": "code",
   "execution_count": 16,
   "metadata": {},
   "outputs": [],
   "source": [
    "from collections import Counter\n",
    "\n",
    "\n",
    "def location_distances(p: ProblemInput) -> int:\n",
    "  return sum_differences(sorted(p.left), sorted(p.right))\n",
    "\n",
    "def similarity_score(p: ProblemInput) -> int:\n",
    "  counts = Counter(p.right)\n",
    "  return sum(l*counts.get(l, 0) for l in p.left)"
   ]
  },
  {
   "cell_type": "code",
   "execution_count": 11,
   "metadata": {},
   "outputs": [
    {
     "data": {
      "text/plain": [
       "TestResults(failed=0, attempted=2)"
      ]
     },
     "execution_count": 11,
     "metadata": {},
     "output_type": "execute_result"
    }
   ],
   "source": [
    "doctest.testmod(verbose=False, report=True, exclude_empty=True, optionflags=doctest.NORMALIZE_WHITESPACE)"
   ]
  },
  {
   "cell_type": "code",
   "execution_count": 21,
   "metadata": {},
   "outputs": [],
   "source": [
    "test_input = \"\"\"3   4\n",
    "4   3\n",
    "2   5\n",
    "1   3\n",
    "3   9\n",
    "3   3\"\"\"\n",
    "\n",
    "problem = ProblemInput.parse_input(test_input)\n",
    "assert location_distances(problem) == 11, \"p1 test failed\"\n",
    "assert similarity_score(problem) == 31, \"p2 test failed\""
   ]
  },
  {
   "cell_type": "code",
   "execution_count": 22,
   "metadata": {},
   "outputs": [
    {
     "name": "stdout",
     "output_type": "stream",
     "text": [
      "Part 1:  2031679\n",
      "Part 2:  19678534\n"
     ]
    }
   ],
   "source": [
    "# Final answers\n",
    "with open('inputs/day01.txt') as f:\n",
    "    problem = ProblemInput.parse_input(f.read().strip())\n",
    "    print('Part 1: ', location_distances(problem))\n",
    "    print('Part 2: ', similarity_score(problem))\n"
   ]
  }
 ],
 "metadata": {
  "kernelspec": {
   "display_name": ".venv",
   "language": "python",
   "name": "python3"
  },
  "language_info": {
   "codemirror_mode": {
    "name": "ipython",
    "version": 3
   },
   "file_extension": ".py",
   "mimetype": "text/x-python",
   "name": "python",
   "nbconvert_exporter": "python",
   "pygments_lexer": "ipython3",
   "version": "3.12.7"
  }
 },
 "nbformat": 4,
 "nbformat_minor": 2
}
