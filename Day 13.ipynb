{
 "cells": [
  {
   "cell_type": "code",
   "execution_count": 82,
   "metadata": {},
   "outputs": [],
   "source": [
    "import doctest\n",
    "from dataclasses import dataclass\n",
    "import numpy as np\n",
    "import re\n",
    "import math"
   ]
  },
  {
   "cell_type": "code",
   "execution_count": 283,
   "metadata": {},
   "outputs": [],
   "source": [
    "_int_re = re.compile(r'\\d+')\n",
    "def extract_ints(s: str) -> list[int]:\n",
    "  \"\"\"\n",
    "  >>> extract_ints(\"Button A: X+94, Y+34\")\n",
    "  [94, 34]\n",
    "  >>> extract_ints(\"Prize: X=8400, Y=5400\")\n",
    "  [8400, 5400]\n",
    "  \"\"\"\n",
    "  return [int(m) for m in _int_re.findall(s)]\n",
    "\n",
    "\n",
    "@dataclass(frozen=True)\n",
    "class ButtonConfiguration:\n",
    "  vectors: np.array\n",
    "  target: np.array\n",
    "  \n",
    "  @classmethod\n",
    "  def parse_input(cls, input: str) -> 'ButtonConfiguration':\n",
    "    button_a, button_b, prize = input.strip().splitlines()\n",
    "    vectors = np.array([\n",
    "      extract_ints(button_a), \n",
    "      extract_ints(button_b)\n",
    "    ])\n",
    "    target = np.array(extract_ints(prize))\n",
    "    return ButtonConfiguration(vectors, target)\n",
    "\n",
    "\n",
    "@dataclass\n",
    "class ProblemInput:\n",
    "  configs: list[ButtonConfiguration]\n",
    "  \n",
    "  @classmethod\n",
    "  def parse_input(cls, input: str) -> 'ProblemInput':\n",
    "    return ProblemInput(\n",
    "      [ButtonConfiguration.parse_input(s) for s in input.split('\\n\\n')]\n",
    "    )\n",
    "\n",
    "\n",
    "def is_valid_solution(bc: ButtonConfiguration, presses: np.array, offset: int=0) -> bool:\n",
    "  int_presses = presses.round().astype(int)\n",
    "  deltas = np.abs(int_presses.dot(bc.vectors) - (bc.target + offset))\n",
    "  return all(np.isclose(deltas, 0, atol=1e-4) & (presses >= 0))\n",
    "\n",
    "\n",
    "def token_cost(presses: np.array) -> int:\n",
    "  \"\"\"\n",
    "  >>> token_cost(np.array([80., 40.0]))\n",
    "  280\n",
    "  \"\"\"\n",
    "  return int(presses.round().dot([3, 1]))\n",
    "  \n",
    "\n",
    "def minimum_tokens(bc: ButtonConfiguration, offset: int=0) -> int:\n",
    "  presses = (bc.target + offset).dot(np.linalg.inv(bc.vectors))\n",
    "  if is_valid_solution(bc, presses, offset):\n",
    "    return token_cost(presses)\n",
    "  else:\n",
    "    return 0"
   ]
  },
  {
   "cell_type": "code",
   "execution_count": 284,
   "metadata": {},
   "outputs": [],
   "source": [
    "def part_1_solution(p: ProblemInput) -> int:\n",
    "  return sum(minimum_tokens(bc) for bc in p.configs)\n",
    "\n",
    "\n",
    "def part_2_solution(p: ProblemInput) -> int:\n",
    "  return sum(minimum_tokens(bc, 10000000000000) for bc in p.configs)\n",
    "  "
   ]
  },
  {
   "cell_type": "code",
   "execution_count": 285,
   "metadata": {},
   "outputs": [
    {
     "data": {
      "text/plain": [
       "TestResults(failed=0, attempted=3)"
      ]
     },
     "execution_count": 285,
     "metadata": {},
     "output_type": "execute_result"
    }
   ],
   "source": [
    "doctest.testmod(verbose=False, report=True, exclude_empty=True, optionflags=doctest.NORMALIZE_WHITESPACE)"
   ]
  },
  {
   "cell_type": "code",
   "execution_count": 286,
   "metadata": {},
   "outputs": [],
   "source": [
    "test_input = \"\"\"Button A: X+94, Y+34\n",
    "Button B: X+22, Y+67\n",
    "Prize: X=8400, Y=5400\n",
    "\n",
    "Button A: X+26, Y+66\n",
    "Button B: X+67, Y+21\n",
    "Prize: X=12748, Y=12176\n",
    "\n",
    "Button A: X+17, Y+86\n",
    "Button B: X+84, Y+37\n",
    "Prize: X=7870, Y=6450\n",
    "\n",
    "Button A: X+69, Y+23\n",
    "Button B: X+27, Y+71\n",
    "Prize: X=18641, Y=10279\"\"\"\n",
    "\n",
    "problem = ProblemInput.parse_input(test_input)\n",
    "assert part_1_solution(problem) == 480, \"p1 test failed\""
   ]
  },
  {
   "cell_type": "code",
   "execution_count": 287,
   "metadata": {},
   "outputs": [
    {
     "data": {
      "text/plain": [
       "875318608908"
      ]
     },
     "execution_count": 287,
     "metadata": {},
     "output_type": "execute_result"
    }
   ],
   "source": [
    "part_2_solution(problem)"
   ]
  },
  {
   "cell_type": "code",
   "execution_count": 290,
   "metadata": {},
   "outputs": [
    {
     "name": "stdout",
     "output_type": "stream",
     "text": [
      "Part 1:  28753\n",
      "Part 2:  102718967795500\n",
      "CPU times: user 35.2 ms, sys: 0 ns, total: 35.2 ms\n",
      "Wall time: 33.6 ms\n"
     ]
    }
   ],
   "source": [
    "%%time\n",
    "# Final answers\n",
    "with open('inputs/day13.txt') as f:\n",
    "    input = f.read().strip()\n",
    "    problem = ProblemInput.parse_input(input)\n",
    "    print('Part 1: ', part_1_solution(problem))\n",
    "    print('Part 2: ', part_2_solution(problem))"
   ]
  }
 ],
 "metadata": {
  "kernelspec": {
   "display_name": ".venv",
   "language": "python",
   "name": "python3"
  },
  "language_info": {
   "codemirror_mode": {
    "name": "ipython",
    "version": 3
   },
   "file_extension": ".py",
   "mimetype": "text/x-python",
   "name": "python",
   "nbconvert_exporter": "python",
   "pygments_lexer": "ipython3",
   "version": "3.12.7"
  }
 },
 "nbformat": 4,
 "nbformat_minor": 2
}
