{
 "cells": [
  {
   "cell_type": "code",
   "execution_count": 4,
   "metadata": {},
   "outputs": [],
   "source": [
    "import doctest\n",
    "from dataclasses import dataclass\n",
    "from typing import Iterable, Optional\n",
    "from itertools import count, islice, product"
   ]
  },
  {
   "cell_type": "code",
   "execution_count": 270,
   "metadata": {},
   "outputs": [],
   "source": [
    "from collections import defaultdict\n",
    "from dataclasses import field\n",
    "from enum import Enum\n",
    "\n",
    "class GuardState(Enum):\n",
    "  OK = 1\n",
    "  OOB = 2\n",
    "  LOOP = 3\n",
    "\n",
    "\n",
    "def parse_ints(s: str, sep: str = ',') -> list[int]:\n",
    "  return [int(n) for n in s.split(sep)]\n",
    "\n",
    "\n",
    "_ROTATIONS = {'^': '>', '>': 'v', 'v': '<', '<': '^'}\n",
    "_STARTING_DIR = '^'\n",
    "\n",
    "@dataclass\n",
    "class ProblemInput:\n",
    "  grid: list[list[str]]\n",
    "  height: int\n",
    "  width: int\n",
    "  guard: tuple[str, int, int]\n",
    "  visited: set[tuple[str, int, int]] = field(default_factory=lambda: set())\n",
    "  \n",
    "  def __post_init__(self):\n",
    "    self.mark_visited()\n",
    "\n",
    "  @classmethod\n",
    "  def parse_input(cls, input: str) -> 'ProblemInput':\n",
    "    grid = [list(l) for l in input.strip().split('\\n')]\n",
    "    height = len(grid)\n",
    "    width = len(grid[0])\n",
    "    for i in range(height):\n",
    "      for j in range(width):\n",
    "        if grid[i][j] == _STARTING_DIR:\n",
    "          return ProblemInput(grid, height, width, (_STARTING_DIR, i, j))\n",
    "\n",
    "  def is_oob(self, pos: tuple[int, int]) -> bool:\n",
    "    i, j = pos\n",
    "    return i < 0 or i >= self.height or j < 0 or j >= self.width\n",
    "\n",
    "  def is_obstacle(self, pos: tuple[int, int]) -> bool:\n",
    "    i, j = pos\n",
    "    return not self.is_oob(pos) and self.grid[i][j] == '#'\n",
    "  \n",
    "  def will_loop(self, pos: tuple[int, int]) -> bool:\n",
    "    return (self.guard[0], pos[0], pos[1]) in self.visited\n",
    "  \n",
    "  def rotate(self):\n",
    "    dir, i, j = self.guard\n",
    "    self.guard = (_ROTATIONS[dir], i, j)\n",
    "    \n",
    "  def next(self) -> bool:\n",
    "    dir, i, j = self.guard\n",
    "    if dir == '^':\n",
    "      return i-1, j\n",
    "    elif dir == '>':\n",
    "      return i, j+1\n",
    "    elif dir == 'v':\n",
    "      return i+1, j\n",
    "    elif dir == '<':\n",
    "      return i, j-1\n",
    "    \n",
    "  def mark(self, pos: tuple[int, int], c: str):\n",
    "    if self.is_oob(pos): return\n",
    "    i, j = pos\n",
    "    self.grid[i][j] = c\n",
    "    \n",
    "  def mark_visited(self):\n",
    "    self.visited.add(self.guard)\n",
    "    \n",
    "  def move(self, pos: tuple[int, int]):\n",
    "    self.guard = (self.guard[0],) + pos\n",
    "    self.mark_visited()\n",
    "\n",
    "  def step(self) -> GuardState:\n",
    "    next_pos = self.next()\n",
    "    if self.is_oob(next_pos):\n",
    "      return GuardState.OOB\n",
    "    elif self.will_loop(next_pos):\n",
    "      return GuardState.LOOP\n",
    "    \n",
    "    if self.is_obstacle(next_pos):\n",
    "      self.rotate()\n",
    "    else:\n",
    "      self.move(next_pos)\n",
    "    return GuardState.OK\n",
    "\n",
    "  def get_visited(self) -> int:\n",
    "    return set(v[1:] for v in self.visited)\n"
   ]
  },
  {
   "cell_type": "code",
   "execution_count": 272,
   "metadata": {},
   "outputs": [],
   "source": [
    "def part_1_solution(p: ProblemInput) -> int:\n",
    "  # While we haven't hit a termination case.\n",
    "  while p.step() == GuardState.OK:\n",
    "    pass\n",
    "  return len(p.get_visited())\n",
    "\n",
    "def part_2_solution(p: ProblemInput) -> int:\n",
    "  start = p.guard\n",
    "  def copy():\n",
    "    return ProblemInput(p.grid, p.height, p.width, start)\n",
    "  \n",
    "  # Solve once to find visited states.\n",
    "  pp = copy()\n",
    "  while pp.step() == GuardState.OK:\n",
    "    pass\n",
    "  visited = pp.get_visited()\n",
    "  \n",
    "  # Mark all visited stats as obstructions and look for loops.\n",
    "  looped = 0\n",
    "  for pos in visited:\n",
    "    if pos == start[1:]: continue\n",
    "    pp = copy()\n",
    "    # Mark as obstacle.\n",
    "    pp.mark(pos, '#')\n",
    "    while (state := pp.step()) == GuardState.OK:\n",
    "      pass\n",
    "    if state == GuardState.LOOP:\n",
    "      # print('FOUND!', pos)\n",
    "      looped += 1\n",
    "    # Revert.\n",
    "    pp.mark(pos, '.')\n",
    "  return looped\n",
    "  "
   ]
  },
  {
   "cell_type": "code",
   "execution_count": 273,
   "metadata": {},
   "outputs": [
    {
     "data": {
      "text/plain": [
       "TestResults(failed=0, attempted=0)"
      ]
     },
     "execution_count": 273,
     "metadata": {},
     "output_type": "execute_result"
    }
   ],
   "source": [
    "doctest.testmod(verbose=False, report=True, exclude_empty=True, optionflags=doctest.NORMALIZE_WHITESPACE)"
   ]
  },
  {
   "cell_type": "code",
   "execution_count": 274,
   "metadata": {},
   "outputs": [
    {
     "data": {
      "text/plain": [
       "41"
      ]
     },
     "execution_count": 274,
     "metadata": {},
     "output_type": "execute_result"
    }
   ],
   "source": [
    "problem = ProblemInput.parse_input(test_input)\n",
    "part_1_solution(problem)\n",
    "# print(problem.step())\n",
    "# print(problem.count_visited())"
   ]
  },
  {
   "cell_type": "code",
   "execution_count": 275,
   "metadata": {},
   "outputs": [],
   "source": [
    "test_input = \"\"\"....#.....\n",
    ".........#\n",
    "..........\n",
    "..#.......\n",
    ".......#..\n",
    "..........\n",
    ".#..^.....\n",
    "........#.\n",
    "#.........\n",
    "......#...\"\"\"\n",
    "\n",
    "problem = ProblemInput.parse_input(test_input)\n",
    "assert part_1_solution(problem) == 41, \"p1 test failed\"\n",
    "problem = ProblemInput.parse_input(test_input)\n",
    "assert part_2_solution(problem) == 6, \"p2 test failed\""
   ]
  },
  {
   "cell_type": "code",
   "execution_count": 279,
   "metadata": {},
   "outputs": [
    {
     "name": "stdout",
     "output_type": "stream",
     "text": [
      "Part 1:  5516\n",
      "Part 2:  2008\n",
      "CPU times: user 11.3 s, sys: 0 ns, total: 11.3 s\n",
      "Wall time: 11.3 s\n"
     ]
    }
   ],
   "source": [
    "%%time\n",
    "# Final answers\n",
    "with open('inputs/day06.txt') as f:\n",
    "    input = f.read().strip()\n",
    "    problem = ProblemInput.parse_input(input)\n",
    "    print('Part 1: ', part_1_solution(problem))\n",
    "\n",
    "    problem = ProblemInput.parse_input(input)\n",
    "    print('Part 2: ', part_2_solution(problem))"
   ]
  }
 ],
 "metadata": {
  "kernelspec": {
   "display_name": ".venv",
   "language": "python",
   "name": "python3"
  },
  "language_info": {
   "codemirror_mode": {
    "name": "ipython",
    "version": 3
   },
   "file_extension": ".py",
   "mimetype": "text/x-python",
   "name": "python",
   "nbconvert_exporter": "python",
   "pygments_lexer": "ipython3",
   "version": "3.12.7"
  }
 },
 "nbformat": 4,
 "nbformat_minor": 2
}
