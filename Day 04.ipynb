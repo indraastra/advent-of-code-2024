{
 "cells": [
  {
   "cell_type": "code",
   "execution_count": 22,
   "metadata": {},
   "outputs": [],
   "source": [
    "import doctest\n",
    "from dataclasses import dataclass\n",
    "from typing import Iterable, Optional\n",
    "from itertools import count, islice, product"
   ]
  },
  {
   "cell_type": "code",
   "execution_count": 28,
   "metadata": {},
   "outputs": [],
   "source": [
    "from collections import defaultdict\n",
    "\n",
    "\n",
    "type vec2d = tuple[int, int] \n",
    "\n",
    "\n",
    "@dataclass\n",
    "class ProblemInput:\n",
    "  grid: list[str]\n",
    "  height: int\n",
    "  width: int\n",
    "\n",
    "  def is_oob(self, pos: vec2d) -> bool:\n",
    "    i, j = pos\n",
    "    return i < 0 or i >= self.height or j < 0 or j >= self.width\n",
    "  \n",
    "  def at(self, pos: vec2d, oob_char: str = '?') -> bool:\n",
    "    return oob_char if self.is_oob(pos) else self.grid[pos[0]][pos[1]]\n",
    "  \n",
    "  @classmethod\n",
    "  def parse_input(cls, input: str) -> 'ProblemInput':\n",
    "    grid = input.splitlines()\n",
    "    return ProblemInput(grid, height=len(grid), width=len(grid[0]))\n",
    "\n",
    "\n",
    "DIRS = [\n",
    "  (i, j) for i in (-1, 0, 1) for j in (-1, 0, 1)\n",
    "]\n",
    "\n",
    "DIAGONALS = [\n",
    "  (i, j) for i in (-1, 1) for j in (-1, 1)\n",
    "]\n",
    "\n",
    "\n",
    "def step2d(pos: vec2d, dir: vec2d, n: Optional[int] = None) -> Iterable[vec2d]:\n",
    "  i, j = pos\n",
    "  di, dj = dir\n",
    "  stepper = zip(count(i, di), count(j, dj))\n",
    "  if n:\n",
    "    stepper = islice(stepper, n)\n",
    "  yield from stepper\n",
    "    \n",
    "\n",
    "def get_word(grid: ProblemInput, pos: vec2d, dir: vec2d, n: int) -> str:\n",
    "  return ''.join(grid.at(idx) for idx in step2d(pos, dir, n))\n",
    "\n",
    "\n",
    "def find_occurrences(grid: ProblemInput, word: str = 'XMAS', dirs: list[vec2d] = DIRS) -> Iterable[tuple[vec2d, vec2d]]:\n",
    "  for pos in product(range(grid.height), range(grid.width)):\n",
    "    for dir in dirs:\n",
    "      if get_word(grid, pos, dir, len(word)) == word:\n",
    "        yield (pos, dir)\n",
    "        \n",
    "\n",
    "def count_xmas_v1(*args, **kwargs) -> int:\n",
    "  count = 0\n",
    "  for _ in find_occurrences(*args, **kwargs):\n",
    "    count += 1\n",
    "  return count\n",
    "\n",
    "\n",
    "def count_xmas_v2(grid: ProblemInput) -> int:\n",
    "  by_center = defaultdict(int)\n",
    "  for pos, dir in find_occurrences(grid, 'MAS', DIAGONALS):\n",
    "    center = pos[0] + dir[0], pos[1] + dir[1]\n",
    "    by_center[center] += 1\n",
    "  return sum(1 for v in by_center.values() if v > 1)\n"
   ]
  },
  {
   "cell_type": "code",
   "execution_count": 29,
   "metadata": {},
   "outputs": [
    {
     "data": {
      "text/plain": [
       "TestResults(failed=0, attempted=0)"
      ]
     },
     "execution_count": 29,
     "metadata": {},
     "output_type": "execute_result"
    }
   ],
   "source": [
    "doctest.testmod(verbose=False, report=True, exclude_empty=True, optionflags=doctest.NORMALIZE_WHITESPACE)"
   ]
  },
  {
   "cell_type": "code",
   "execution_count": 30,
   "metadata": {},
   "outputs": [],
   "source": [
    "test_input = \"\"\"MMMSXXMASM\n",
    "MSAMXMSMSA\n",
    "AMXSXMAAMM\n",
    "MSAMASMSMX\n",
    "XMASAMXAMM\n",
    "XXAMMXXAMA\n",
    "SMSMSASXSS\n",
    "SAXAMASAAA\n",
    "MAMMMXMMMM\n",
    "MXMXAXMASX\"\"\"\n",
    "\n",
    "problem = ProblemInput.parse_input(test_input)\n",
    "assert count_xmas_v1(problem) == 18, \"p1 test failed\"\n",
    "assert count_xmas_v2(problem) == 9, \"p2 test failed\""
   ]
  },
  {
   "cell_type": "code",
   "execution_count": 31,
   "metadata": {},
   "outputs": [
    {
     "name": "stdout",
     "output_type": "stream",
     "text": [
      "Part 1:  2578\n",
      "Part 2:  1972\n"
     ]
    }
   ],
   "source": [
    "# Final answers\n",
    "with open('inputs/day04.txt') as f:\n",
    "    problem = ProblemInput.parse_input(f.read().strip())\n",
    "    print('Part 1: ', count_xmas_v1(problem))\n",
    "    print('Part 2: ', count_xmas_v2(problem))"
   ]
  },
  {
   "cell_type": "code",
   "execution_count": null,
   "metadata": {},
   "outputs": [],
   "source": []
  }
 ],
 "metadata": {
  "kernelspec": {
   "display_name": ".venv",
   "language": "python",
   "name": "python3"
  },
  "language_info": {
   "codemirror_mode": {
    "name": "ipython",
    "version": 3
   },
   "file_extension": ".py",
   "mimetype": "text/x-python",
   "name": "python",
   "nbconvert_exporter": "python",
   "pygments_lexer": "ipython3",
   "version": "3.12.7"
  }
 },
 "nbformat": 4,
 "nbformat_minor": 2
}
