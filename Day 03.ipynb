{
 "cells": [
  {
   "cell_type": "code",
   "execution_count": 1,
   "metadata": {},
   "outputs": [],
   "source": [
    "import doctest\n",
    "from dataclasses import dataclass\n",
    "import re"
   ]
  },
  {
   "cell_type": "code",
   "execution_count": 55,
   "metadata": {},
   "outputs": [],
   "source": [
    "@dataclass\n",
    "class ProblemInput:\n",
    "  noisy_input: str\n",
    "  \n",
    "  @classmethod\n",
    "  def parse_input(cls, input: str) -> 'ProblemInput':\n",
    "    return ProblemInput(input)\n",
    "  \n",
    "\n",
    "def parse_mul(s: str) -> list[tuple[int, int]]:\n",
    "  \"\"\"\n",
    "  >>> parse_mul('mul(6,9)!mul[4,5]%mul(1,4)')\n",
    "  [(6, 9), (1, 4)]\n",
    "  \"\"\"\n",
    "  return [(int(a), int(b)) for (a, b) in re.findall(r'mul\\((\\d+),(\\d+)\\)', s)]\n",
    "  \n",
    "\n",
    "def parse_mul_handling_dos(s: str) -> list[tuple[int, int]]:\n",
    "  \"\"\"\n",
    "  >>> parse_mul('mul(6,9)!mul[4,5]%mul(1,4)')\n",
    "  [(6, 9), (1, 4)]\n",
    "  \"\"\"\n",
    "  parsed = re.findall(r'(?:mul\\((\\d+),(\\d+)\\)|(do|don\\'t)\\(\\))', s)\n",
    "  muls = []\n",
    "  ignoring = False\n",
    "  for a, b, todo in parsed:\n",
    "    if todo == 'do':\n",
    "      ignoring = False\n",
    "    elif todo == \"don't\":\n",
    "      ignoring = True\n",
    "    elif not ignoring:\n",
    "      muls.append((int(a), int(b)))\n",
    "  return muls\n"
   ]
  },
  {
   "cell_type": "code",
   "execution_count": 56,
   "metadata": {},
   "outputs": [
    {
     "data": {
      "text/plain": [
       "[(1, 2), (3, 4), (9, 9)]"
      ]
     },
     "execution_count": 56,
     "metadata": {},
     "output_type": "execute_result"
    }
   ],
   "source": [
    "parse_mul('mul(1,2)don\\'t()mul(3,4)do()mul(9,9)')\n"
   ]
  },
  {
   "cell_type": "code",
   "execution_count": 49,
   "metadata": {},
   "outputs": [],
   "source": [
    "from collections import Counter\n",
    "\n",
    "\n",
    "def add_products(p: ProblemInput) -> int:\n",
    "  return sum(a*b for (a, b) in parse_mul(p.noisy_input))\n"
   ]
  },
  {
   "cell_type": "code",
   "execution_count": 50,
   "metadata": {},
   "outputs": [
    {
     "data": {
      "text/plain": [
       "TestResults(failed=0, attempted=1)"
      ]
     },
     "execution_count": 50,
     "metadata": {},
     "output_type": "execute_result"
    }
   ],
   "source": [
    "doctest.testmod(verbose=False, report=True, exclude_empty=True, optionflags=doctest.NORMALIZE_WHITESPACE)"
   ]
  },
  {
   "cell_type": "code",
   "execution_count": null,
   "metadata": {},
   "outputs": [
    {
     "ename": "AssertionError",
     "evalue": "p2 test failed",
     "output_type": "error",
     "traceback": [
      "\u001b[0;31m---------------------------------------------------------------------------\u001b[0m",
      "\u001b[0;31mAssertionError\u001b[0m                            Traceback (most recent call last)",
      "Cell \u001b[0;32mIn[57], line 8\u001b[0m\n\u001b[1;32m      5\u001b[0m \u001b[38;5;28;01massert\u001b[39;00m add_products(problem_1) \u001b[38;5;241m==\u001b[39m \u001b[38;5;241m161\u001b[39m, \u001b[38;5;124m\"\u001b[39m\u001b[38;5;124mp1 test failed\u001b[39m\u001b[38;5;124m\"\u001b[39m\n\u001b[1;32m      7\u001b[0m problem_2 \u001b[38;5;241m=\u001b[39m ProblemInput\u001b[38;5;241m.\u001b[39mparse_input(test_input_2)\n\u001b[0;32m----> 8\u001b[0m \u001b[38;5;28;01massert\u001b[39;00m add_products(problem_2) \u001b[38;5;241m==\u001b[39m \u001b[38;5;241m48\u001b[39m, \u001b[38;5;124m\"\u001b[39m\u001b[38;5;124mp2 test failed\u001b[39m\u001b[38;5;124m\"\u001b[39m\n",
      "\u001b[0;31mAssertionError\u001b[0m: p2 test failed"
     ]
    }
   ],
   "source": [
    "test_input = \"\"\"xmul(2,4)%&mul[3,7]!@^do_not_mul(5,5)+mul(32,64]then(mul(11,8)mul(8,5))\"\"\"\n",
    "test_input_2 = \"\"\"xmul(2,4)&mul[3,7]!^don't()_mul(5,5)+mul(32,64](mul(11,8)undo()?mul(8,5))\"\"\"\n",
    "\n",
    "problem = ProblemInput.parse_input(test_input)\n",
    "assert add_products(problem) == 161, \"p1 test failed\"\n",
    "problem_2 = ProblemInput.parse_input(test_input_2)\n",
    "assert add_products(problem_2) == 48, \"p2 test failed\""
   ]
  },
  {
   "cell_type": "code",
   "execution_count": null,
   "metadata": {},
   "outputs": [
    {
     "name": "stdout",
     "output_type": "stream",
     "text": [
      "Part 1:  196826776\n"
     ]
    }
   ],
   "source": [
    "# Final answers\n",
    "with open('inputs/day03.txt') as f:\n",
    "    problem = ProblemInput.parse_input(f.read().strip())\n",
    "    print('Part 1: ', add_products(problem))\n",
    "    print('Part 2: ', add_products_handling_dos(problem))\n"
   ]
  },
  {
   "cell_type": "code",
   "execution_count": null,
   "metadata": {},
   "outputs": [],
   "source": []
  }
 ],
 "metadata": {
  "kernelspec": {
   "display_name": ".venv",
   "language": "python",
   "name": "python3"
  },
  "language_info": {
   "codemirror_mode": {
    "name": "ipython",
    "version": 3
   },
   "file_extension": ".py",
   "mimetype": "text/x-python",
   "name": "python",
   "nbconvert_exporter": "python",
   "pygments_lexer": "ipython3",
   "version": "3.12.7"
  }
 },
 "nbformat": 4,
 "nbformat_minor": 2
}
