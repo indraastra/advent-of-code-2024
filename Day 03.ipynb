{
 "cells": [
  {
   "cell_type": "code",
   "execution_count": 1,
   "metadata": {},
   "outputs": [],
   "source": [
    "import doctest\n",
    "from dataclasses import dataclass\n",
    "import re"
   ]
  },
  {
   "cell_type": "code",
   "execution_count": 55,
   "metadata": {},
   "outputs": [],
   "source": [
    "@dataclass\n",
    "class ProblemInput:\n",
    "  noisy_input: str\n",
    "  \n",
    "  @classmethod\n",
    "  def parse_input(cls, input: str) -> 'ProblemInput':\n",
    "    return ProblemInput(input)\n",
    "  \n",
    "\n",
    "def parse_mul(s: str) -> list[tuple[int, int]]:\n",
    "  \"\"\"\n",
    "  >>> parse_mul('mul(6,9)!mul[4,5]%mul(1,4)')\n",
    "  [(6, 9), (1, 4)]\n",
    "  \"\"\"\n",
    "  return [(int(a), int(b)) for (a, b) in re.findall(r'mul\\((\\d+),(\\d+)\\)', s)]\n",
    "  \n",
    "\n",
    "def parse_mul_handling_dos(s: str) -> list[tuple[int, int]]:\n",
    "  \"\"\"\n",
    "  >>> parse_mul('mul(6,9)!mul[4,5]%mul(1,4)')\n",
    "  [(6, 9), (1, 4)]\n",
    "  \"\"\"\n",
    "  parsed = re.findall(r'(?:mul\\((\\d+),(\\d+)\\)|(do|don\\'t)\\(\\))', s)\n",
    "  muls = []\n",
    "  ignoring = False\n",
    "  for a, b, todo in parsed:\n",
    "    if todo == 'do':\n",
    "      ignoring = False\n",
    "    elif todo == \"don't\":\n",
    "      ignoring = True\n",
    "    elif not ignoring:\n",
    "      muls.append((int(a), int(b)))\n",
    "  return muls\n"
   ]
  },
  {
   "cell_type": "code",
   "execution_count": 56,
   "metadata": {},
   "outputs": [
    {
     "data": {
      "text/plain": [
       "[(1, 2), (3, 4), (9, 9)]"
      ]
     },
     "execution_count": 56,
     "metadata": {},
     "output_type": "execute_result"
    }
   ],
   "source": [
    "parse_mul('mul(1,2)don\\'t()mul(3,4)do()mul(9,9)')\n"
   ]
  },
  {
   "cell_type": "code",
   "execution_count": 58,
   "metadata": {},
   "outputs": [],
   "source": [
    "from collections import Counter\n",
    "\n",
    "\n",
    "def add_products(p: ProblemInput, parse_fn=parse_mul) -> int:\n",
    "  return sum(a*b for (a, b) in parse_fn(p.noisy_input))\n"
   ]
  },
  {
   "cell_type": "code",
   "execution_count": 59,
   "metadata": {},
   "outputs": [
    {
     "data": {
      "text/plain": [
       "TestResults(failed=0, attempted=2)"
      ]
     },
     "execution_count": 59,
     "metadata": {},
     "output_type": "execute_result"
    }
   ],
   "source": [
    "doctest.testmod(verbose=False, report=True, exclude_empty=True, optionflags=doctest.NORMALIZE_WHITESPACE)"
   ]
  },
  {
   "cell_type": "code",
   "execution_count": 61,
   "metadata": {},
   "outputs": [],
   "source": [
    "test_input = \"\"\"xmul(2,4)&mul[3,7]!^don't()_mul(5,5)+mul(32,64](mul(11,8)undo()?mul(8,5))\"\"\"\n",
    "\n",
    "problem = ProblemInput.parse_input(test_input)\n",
    "assert add_products(problem, parse_fn=parse_mul) == 161, \"p1 test failed\"\n",
    "assert add_products(problem, parse_fn=parse_mul_handling_dos) == 48, \"p2 test failed\""
   ]
  },
  {
   "cell_type": "code",
   "execution_count": 62,
   "metadata": {},
   "outputs": [
    {
     "name": "stdout",
     "output_type": "stream",
     "text": [
      "Part 1:  196826776\n",
      "Part 2:  106780429\n"
     ]
    }
   ],
   "source": [
    "# Final answers\n",
    "with open('inputs/day03.txt') as f:\n",
    "    problem = ProblemInput.parse_input(f.read().strip())\n",
    "    print('Part 1: ', add_products(problem, parse_fn=parse_mul))\n",
    "    print('Part 2: ', add_products(problem, parse_fn=parse_mul_handling_dos))\n"
   ]
  },
  {
   "cell_type": "code",
   "execution_count": null,
   "metadata": {},
   "outputs": [],
   "source": []
  }
 ],
 "metadata": {
  "kernelspec": {
   "display_name": ".venv",
   "language": "python",
   "name": "python3"
  },
  "language_info": {
   "codemirror_mode": {
    "name": "ipython",
    "version": 3
   },
   "file_extension": ".py",
   "mimetype": "text/x-python",
   "name": "python",
   "nbconvert_exporter": "python",
   "pygments_lexer": "ipython3",
   "version": "3.12.7"
  }
 },
 "nbformat": 4,
 "nbformat_minor": 2
}
