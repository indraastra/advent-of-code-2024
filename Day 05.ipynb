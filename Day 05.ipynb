{
 "cells": [
  {
   "cell_type": "code",
   "execution_count": 1,
   "metadata": {},
   "outputs": [],
   "source": [
    "import doctest\n",
    "from dataclasses import dataclass\n",
    "from typing import Iterable, Optional\n",
    "from itertools import count, islice, product"
   ]
  },
  {
   "cell_type": "code",
   "execution_count": 43,
   "metadata": {},
   "outputs": [],
   "source": [
    "from collections import defaultdict\n",
    "import itertools\n",
    "from typing import TypeVar\n",
    "\n",
    "\n",
    "T = TypeVar('T')\n",
    "type Rules = dict[int, set[int]]\n",
    "\n",
    "\n",
    "def parse_ints(s: str, sep: str = ',') -> list[int]:\n",
    "  return [int(n) for n in s.split(sep)]\n",
    "\n",
    "\n",
    "@dataclass\n",
    "class ProblemInput:\n",
    "  rules: Rules\n",
    "  updates: list[list[int]]\n",
    "\n",
    "  @classmethod\n",
    "  def parse_input(cls, input: str) -> 'ProblemInput':\n",
    "    raw_rules, raw_updates = input.split('\\n\\n')\n",
    "    \n",
    "    rules = defaultdict(lambda: set())\n",
    "    for rule in raw_rules.splitlines():\n",
    "      p, n = rule.split('|')\n",
    "      rules[int(p)].add(int(n))\n",
    "    \n",
    "    updates = []\n",
    "    for update in raw_updates.splitlines():\n",
    "      updates.append(parse_ints(update))      \n",
    "    \n",
    "    return ProblemInput(rules, updates)\n",
    "\n",
    "\n",
    "def is_correct(update: list[int], rules: Rules) -> bool:\n",
    "  \"\"\"\n",
    "  >>> p = ProblemInput.parse_input(\"47|53\\\\n97|13\\\\n13|29\\\\n\\\\n\")\n",
    "  >>> is_correct([47, 53], p.rules)\n",
    "  True\n",
    "  >>> is_correct([13, 97], p.rules)\n",
    "  False\n",
    "  >>> is_correct([97, 13, 29], p.rules)\n",
    "  True\n",
    "  \"\"\"\n",
    "  return all(n in rules.get(p, {})\n",
    "             for p, n in itertools.pairwise(update))\n",
    "\n",
    "\n",
    "def make_correct(update: list[int], rules: Rules) -> list[int]:\n",
    "  corrected = update[:]\n",
    "  while not is_correct(corrected, rules):\n",
    "    for i in range(len(corrected) - 1):\n",
    "      p = corrected[i]\n",
    "      n = corrected[i+1]\n",
    "      if not is_correct([p, n], rules):\n",
    "        if is_correct([n, p], rules):\n",
    "          corrected[i] = n\n",
    "          corrected[i+1] = p\n",
    "  return corrected\n",
    "\n",
    "\n",
    "def middle(l: list[T]) -> T:\n",
    "  \"\"\"\n",
    "  >>> middle([3, 2, 9])\n",
    "  2\n",
    "  >>> middle([1])\n",
    "  1\n",
    "  \"\"\"\n",
    "  return l[len(l)//2]\n",
    "\n"
   ]
  },
  {
   "cell_type": "code",
   "execution_count": 51,
   "metadata": {},
   "outputs": [],
   "source": [
    "def part_1_solution(p: ProblemInput) -> int:\n",
    "  return sum(middle(u)\n",
    "             for u in p.updates\n",
    "             if is_correct(u, p.rules))\n",
    "\n",
    "def part_2_solution(p: ProblemInput) -> int:\n",
    "  return sum(middle(make_correct(u, p.rules))\n",
    "             for u in p.updates\n",
    "             if not is_correct(u, p.rules))"
   ]
  },
  {
   "cell_type": "code",
   "execution_count": 52,
   "metadata": {},
   "outputs": [
    {
     "data": {
      "text/plain": [
       "TestResults(failed=0, attempted=6)"
      ]
     },
     "execution_count": 52,
     "metadata": {},
     "output_type": "execute_result"
    }
   ],
   "source": [
    "doctest.testmod(verbose=False, report=True, exclude_empty=True, optionflags=doctest.NORMALIZE_WHITESPACE)"
   ]
  },
  {
   "cell_type": "code",
   "execution_count": 53,
   "metadata": {},
   "outputs": [],
   "source": [
    "test_input = \"\"\"47|53\n",
    "97|13\n",
    "97|61\n",
    "97|47\n",
    "75|29\n",
    "61|13\n",
    "75|53\n",
    "29|13\n",
    "97|29\n",
    "53|29\n",
    "61|53\n",
    "97|53\n",
    "61|29\n",
    "47|13\n",
    "75|47\n",
    "97|75\n",
    "47|61\n",
    "75|61\n",
    "47|29\n",
    "75|13\n",
    "53|13\n",
    "\n",
    "75,47,61,53,29\n",
    "97,61,53,29,13\n",
    "75,29,13\n",
    "75,97,47,61,53\n",
    "61,13,29\n",
    "97,13,75,29,47\"\"\"\n",
    "\n",
    "problem = ProblemInput.parse_input(test_input)\n",
    "assert part_1_solution(problem) == 143, \"p1 test failed\"\n",
    "assert part_2_solution(problem) == 123, \"p2 test failed\""
   ]
  },
  {
   "cell_type": "code",
   "execution_count": 54,
   "metadata": {},
   "outputs": [
    {
     "name": "stdout",
     "output_type": "stream",
     "text": [
      "Part 1:  5762\n",
      "Part 2:  4130\n",
      "CPU times: user 19 ms, sys: 0 ns, total: 19 ms\n",
      "Wall time: 29.3 ms\n"
     ]
    }
   ],
   "source": [
    "%%time\n",
    "# Final answers\n",
    "with open('inputs/day05.txt') as f:\n",
    "    problem = ProblemInput.parse_input(f.read().strip())\n",
    "    print('Part 1: ', part_1_solution(problem))\n",
    "    print('Part 2: ', part_2_solution(problem))"
   ]
  }
 ],
 "metadata": {
  "kernelspec": {
   "display_name": ".venv",
   "language": "python",
   "name": "python3"
  },
  "language_info": {
   "codemirror_mode": {
    "name": "ipython",
    "version": 3
   },
   "file_extension": ".py",
   "mimetype": "text/x-python",
   "name": "python",
   "nbconvert_exporter": "python",
   "pygments_lexer": "ipython3",
   "version": "3.12.7"
  }
 },
 "nbformat": 4,
 "nbformat_minor": 2
}
